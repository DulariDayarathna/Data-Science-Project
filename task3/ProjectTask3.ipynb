{
 "cells": [
  {
   "cell_type": "code",
   "execution_count": 83,
   "metadata": {},
   "outputs": [],
   "source": [
    "# data import\n",
    "import pandas as pd\n",
    "from scipy import stats\n",
    "import numpy as np\n",
    "import seaborn as sns\n",
    "from sklearn.linear_model import LinearRegression\n",
    "\n",
    "import matplotlib.pyplot as plt\n",
    "%matplotlib inline\n",
    "\n",
    "file = 'Education.csv'\n",
    "data = pd.read_csv(file)"
   ]
  },
  {
   "cell_type": "code",
   "execution_count": 70,
   "metadata": {},
   "outputs": [
    {
     "name": "stdout",
     "output_type": "stream",
     "text": [
      "    Item  Total_Schools  Government_Schools  National_Schools  Other_Schools  \\\n",
      "0   2000          10615                9976               317            639   \n",
      "1   2001          10552                9891               320            661   \n",
      "2   2002          10508                9829               323            679   \n",
      "3   2003          10473                9790               323            683   \n",
      "4   2004          10501                9765               324            736   \n",
      "5   2005          10461                9723               324            738   \n",
      "6   2006          10461                9714               327            747   \n",
      "7   2007          10430                9678               328            752   \n",
      "8   2008          10445                9662               330            783   \n",
      "9   2009          10205                9410               334            795   \n",
      "10  2010          10502                9685               340            817   \n",
      "11  2011          10527                9714               342            813   \n",
      "\n",
      "    Private  Pirivenas  Total_Students  Government_Schools.1  Other_Schools.1  \\\n",
      "0        78        561         4340412               4193908           146504   \n",
      "1        78        583         4337258               4187146           150112   \n",
      "2        80        599         4179217               4027075           152142   \n",
      "3        85        598         4098465               3941685           156780   \n",
      "4        85        651         4028186               3870628           157558   \n",
      "5        85        653         4103512               3942077           161435   \n",
      "6        93        654         4000714               3837548           163166   \n",
      "7        94        658         4111022               3942185           168837   \n",
      "8        92        691         4101509               3930374           171135   \n",
      "9        98        697         4037896               3864824           173072   \n",
      "10       98        719         4119525               3940072           179453   \n",
      "11       97        716         4150376               3968104           182272   \n",
      "\n",
      "          ...         Total_Expenditure_on_Education  Current_Expenditure  \\\n",
      "0         ...                                  30929                23794   \n",
      "1         ...                                  28283                23448   \n",
      "2         ...                                  37209                31161   \n",
      "3         ...                                  39116                31673   \n",
      "4         ...                                  42340                33792   \n",
      "5         ...                                  63557                50697   \n",
      "6         ...                                  78344                61144   \n",
      "7         ...                                  92540                72592   \n",
      "8         ...                                 100083                77141   \n",
      "9         ...                                 100506                82414   \n",
      "10        ...                                 104248                85195   \n",
      "11        ...                                 121369                99043   \n",
      "\n",
      "    Capital_Expenditure  Expenditure_as_percentage_of_GDP  \\\n",
      "0                  7135                              2.46   \n",
      "1                  4835                              2.01   \n",
      "2                  6048                              2.35   \n",
      "3                  7443                              2.15   \n",
      "4                  8548                              2.03   \n",
      "5                 12860                              2.59   \n",
      "6                 17200                              2.67   \n",
      "7                 19948                              2.59   \n",
      "8                 22942                              2.27   \n",
      "9                 18092                              2.08   \n",
      "10                19053                              1.86   \n",
      "11                22326                              1.86   \n",
      "\n",
      "    University Education  Universities  Students  Lecturers  \\\n",
      "0                    NaN            13     48296       3241   \n",
      "1                    NaN            13     48212       3268   \n",
      "2                    NaN            13     48666       3390   \n",
      "3                    NaN            13     64291       3543   \n",
      "4                    NaN            13     64801       3725   \n",
      "5                    NaN            15     66386       3875   \n",
      "6                    NaN            15     65206       4016   \n",
      "7                    NaN            15     66996       4304   \n",
      "8                    NaN            15     66891       4452   \n",
      "9                    NaN            15     68768       4735   \n",
      "10                   NaN            15     70477       4984   \n",
      "11                   NaN            15     73828       5050   \n",
      "\n",
      "    Number_Graduating  New_Admissions.1  \n",
      "0                9374             11805  \n",
      "1                8896             11962  \n",
      "2                9027             12144  \n",
      "3               10730             25471  \n",
      "4               10525             13396  \n",
      "5                7154             14520  \n",
      "6               11713             16585  \n",
      "7               12005             17196  \n",
      "8               12958             20069  \n",
      "9               13952             20846  \n",
      "10              13042             21547  \n",
      "11                  -             22016  \n",
      "\n",
      "[12 rows x 27 columns]\n"
     ]
    }
   ],
   "source": [
    "print(data)"
   ]
  },
  {
   "cell_type": "markdown",
   "metadata": {},
   "source": [
    "# visualization "
   ]
  },
  {
   "cell_type": "code",
   "execution_count": 137,
   "metadata": {},
   "outputs": [
    {
     "data": {
      "text/plain": [
       "[Text(0, 0, '2000'),\n",
       " Text(0, 0, '2001'),\n",
       " Text(0, 0, '2002'),\n",
       " Text(0, 0, '2003'),\n",
       " Text(0, 0, '2004'),\n",
       " Text(0, 0, '2005'),\n",
       " Text(0, 0, '2006'),\n",
       " Text(0, 0, '2007'),\n",
       " Text(0, 0, '2008'),\n",
       " Text(0, 0, '2009'),\n",
       " Text(0, 0, '2010'),\n",
       " Text(0, 0, '2011')]"
      ]
     },
     "execution_count": 137,
     "metadata": {},
     "output_type": "execute_result"
    },
    {
     "data": {
      "image/png": "[encoded data removed]",
      "text/plain": [
       "<Figure size 504x360 with 1 Axes>"
      ]
     },
     "metadata": {
      "needs_background": "light"
     },
     "output_type": "display_data"
    }
   ],
   "source": [
    "x_pos = np.arange(len(data.Item))\n",
    "\n",
    "fig, ax = plt.subplots(figsize=(7, 5))\n",
    "ax.bar(x_pos, data.Universities, color='b', align='center')\n",
    "\n",
    "ax.set_xlabel(\"year\")\n",
    "ax.set_ylabel(\"no of universities\")\n",
    "ax.set_title(\"university growth\")\n",
    "\n",
    "ax.set_xticks(x_pos)\n",
    "ax.set_xticklabels(data.Item)"
   ]
  },
  {
   "cell_type": "code",
   "execution_count": 12,
   "metadata": {},
   "outputs": [
    {
     "data": {
      "image/png": "[encoded data removed]",
      "text/plain": [
       "<Figure size 432x288 with 1 Axes>"
      ]
     },
     "metadata": {
      "needs_background": "light"
     },
     "output_type": "display_data"
    }
   ],
   "source": [
    "year = data.Item\n",
    "pGDP = data.Expenditure_as_percentage_of_GDP\n",
    "nAdmissions1= data.New_Admissions\n",
    "nAdmissions=nAdmissions1.div(100000)\n",
    "plt.plot(year, pGDP, color='g')\n",
    "plt.plot(year, nAdmissions, color='r')\n",
    "plt.xlabel('Year')\n",
    "plt.ylabel('Expenditure_as_percentage_of_GDP')\n",
    "plt.title('Expenditure vs ')\n",
    "plt.show()"
   ]
  },
  {
   "cell_type": "markdown",
   "metadata": {},
   "source": [
    "# tried pair plots as in link. but dnnt think this is useful"
   ]
  },
  {
   "cell_type": "code",
   "execution_count": 14,
   "metadata": {},
   "outputs": [
    {
     "name": "stdout",
     "output_type": "stream",
     "text": [
      "<class 'pandas.core.frame.DataFrame'>\n",
      "RangeIndex: 12 entries, 0 to 11\n",
      "Data columns (total 27 columns):\n",
      "Item                                        12 non-null int64\n",
      "Total_Schools                               12 non-null int64\n",
      "Government_Schools                          12 non-null int64\n",
      "National_Schools                            12 non-null int64\n",
      "Other_Schools                               12 non-null int64\n",
      "Private                                     12 non-null int64\n",
      "Pirivenas                                   12 non-null int64\n",
      "Total_Students                              12 non-null int64\n",
      "Government_Schools.1                        12 non-null int64\n",
      "Other_Schools.1                             12 non-null int64\n",
      "Private.1                                   12 non-null int64\n",
      "Pirivenas.1                                 12 non-null int64\n",
      "New_Admissions                              12 non-null int64\n",
      "Total_Teachers                              12 non-null int64\n",
      "Government_Teachers                         12 non-null int64\n",
      "Others                                      12 non-null int64\n",
      "Student/Teacher_Ratio_Government_Schools    12 non-null int64\n",
      "Total_Expenditure_on_Education              12 non-null int64\n",
      "Current_Expenditure                         12 non-null int64\n",
      "Capital_Expenditure                         12 non-null int64\n",
      "Expenditure_as_percentage_of_GDP            12 non-null float64\n",
      "University Education                        0 non-null float64\n",
      "Universities                                12 non-null int64\n",
      "Students                                    12 non-null int64\n",
      "Lecturers                                   12 non-null int64\n",
      "Number_Graduating                           12 non-null object\n",
      "New_Admissions.1                            12 non-null int64\n",
      "dtypes: float64(2), int64(24), object(1)\n",
      "memory usage: 2.6+ KB\n"
     ]
    },
    {
     "data": {
      "text/plain": [
       "Index(['Item', 'Total_Schools', 'Government_Schools', 'National_Schools',\n",
       "       'Other_Schools', 'Private', 'Pirivenas', 'Total_Students',\n",
       "       'Government_Schools.1', 'Other_Schools.1', 'Private.1', 'Pirivenas.1',\n",
       "       'New_Admissions', 'Total_Teachers', 'Government_Teachers', 'Others',\n",
       "       'Student/Teacher_Ratio_Government_Schools',\n",
       "       'Total_Expenditure_on_Education', 'Current_Expenditure',\n",
       "       'Capital_Expenditure', 'Expenditure_as_percentage_of_GDP',\n",
       "       'University Education', 'Universities', 'Students', 'Lecturers',\n",
       "       'Number_Graduating', 'New_Admissions.1'],\n",
       "      dtype='object')"
      ]
     },
     "execution_count": 14,
     "metadata": {},
     "output_type": "execute_result"
    }
   ],
   "source": [
    "data.head()\n",
    "data.info()\n",
    "data.describe()\n",
    "data.columns"
   ]
  },
  {
   "cell_type": "code",
   "execution_count": null,
   "metadata": {},
   "outputs": [],
   "source": [
    "sns.pairplot(data)\n",
    "sns.distplot(data['Expenditure_as_percentage_of_GDP'])"
   ]
  },
  {
   "cell_type": "code",
   "execution_count": null,
   "metadata": {},
   "outputs": [],
   "source": [
    "data.corr()"
   ]
  },
  {
   "cell_type": "markdown",
   "metadata": {},
   "source": [
    "# scatter plot expenditure vs new admission\n"
   ]
  },
  {
   "cell_type": "code",
   "execution_count": 35,
   "metadata": {},
   "outputs": [],
   "source": [
    "X = data.Total_Expenditure_on_Education.values\n",
    "Y = data.New_Admissions.values\n"
   ]
  },
  {
   "cell_type": "code",
   "execution_count": 27,
   "metadata": {},
   "outputs": [
    {
     "name": "stdout",
     "output_type": "stream",
     "text": [
      "[[0.09936328]]\n"
     ]
    }
   ],
   "source": [
    "mean_x=np.meax(X)"
   ]
  },
  {
   "cell_type": "code",
   "execution_count": 36,
   "metadata": {},
   "outputs": [
    {
     "data": {
      "image/png": "[encoded data removed]",
      "text/plain": [
       "<Figure size 432x288 with 1 Axes>"
      ]
     },
     "metadata": {
      "needs_background": "light"
     },
     "output_type": "display_data"
    }
   ],
   "source": [
    "max_x=np.max(x)+100\n",
    "min_x=np.min(x)+100\n",
    "x=np.linspace(max_x,min_x,10000)\n",
    "plt.scatter(X,Y,color='b',label='scatter')\n",
    "plt.show()\n"
   ]
  },
  {
   "cell_type": "markdown",
   "metadata": {},
   "source": [
    "# linear gregression models"
   ]
  },
  {
   "cell_type": "code",
   "execution_count": 39,
   "metadata": {},
   "outputs": [
    {
     "data": {
      "text/plain": [
       "array([[0.09936328]])"
      ]
     },
     "execution_count": 39,
     "metadata": {},
     "output_type": "execute_result"
    }
   ],
   "source": [
    "x = data.Total_Expenditure_on_Education.values\n",
    "y = data.New_Admissions.values\n",
    "x = x.reshape(len(x), 1)\n",
    "y = y.reshape(len(y), 1)\n",
    "\n",
    "lm = LinearRegression()\n",
    "lm.fit(x,y)\n",
    "lm.coef_"
   ]
  },
  {
   "cell_type": "code",
   "execution_count": 40,
   "metadata": {},
   "outputs": [
    {
     "data": {
      "text/plain": [
       "array([[2.78257087e-05]])"
      ]
     },
     "execution_count": 40,
     "metadata": {},
     "output_type": "execute_result"
    }
   ],
   "source": [
    "x = data.Total_Expenditure_on_Education.values\n",
    "y = data.Universities.values\n",
    "x = x.reshape(len(x), 1)\n",
    "y = y.reshape(len(y), 1)\n",
    "\n",
    "lm = LinearRegression()\n",
    "lm.fit(x,y)\n",
    "lm.coef_"
   ]
  },
  {
   "cell_type": "code",
   "execution_count": 41,
   "metadata": {},
   "outputs": [
    {
     "data": {
      "text/plain": [
       "array([[0.2241631]])"
      ]
     },
     "execution_count": 41,
     "metadata": {},
     "output_type": "execute_result"
    }
   ],
   "source": [
    "x = data.Total_Expenditure_on_Education.values\n",
    "y = data.Students.values\n",
    "x = x.reshape(len(x), 1)\n",
    "y = y.reshape(len(y), 1)\n",
    "\n",
    "lm = LinearRegression()\n",
    "lm.fit(x,y)\n",
    "lm.coef_"
   ]
  },
  {
   "cell_type": "markdown",
   "metadata": {},
   "source": [
    "# here due to missing value (last value ) error occure. tried to replace it many way. but ddint work "
   ]
  },
  {
   "cell_type": "code",
   "execution_count": 128,
   "metadata": {},
   "outputs": [
    {
     "ename": "TypeError",
     "evalue": "'str' object does not support item assignment",
     "output_type": "error",
     "traceback": [
      "\u001b[0;31m---------------------------------------------------------------------------\u001b[0m",
      "\u001b[0;31mTypeError\u001b[0m                                 Traceback (most recent call last)",
      "\u001b[0;32m<ipython-input-128-8955a89d0faa>\u001b[0m in \u001b[0;36m<module>\u001b[0;34m\u001b[0m\n\u001b[1;32m      1\u001b[0m \u001b[0mx\u001b[0m \u001b[0;34m=\u001b[0m \u001b[0mdata\u001b[0m\u001b[0;34m.\u001b[0m\u001b[0mTotal_Expenditure_on_Education\u001b[0m\u001b[0;34m.\u001b[0m\u001b[0mvalues\u001b[0m\u001b[0;34m\u001b[0m\u001b[0;34m\u001b[0m\u001b[0m\n\u001b[1;32m      2\u001b[0m \u001b[0my\u001b[0m \u001b[0;34m=\u001b[0m \u001b[0mdata\u001b[0m\u001b[0;34m.\u001b[0m\u001b[0mNumber_Graduating\u001b[0m\u001b[0;34m.\u001b[0m\u001b[0mvalues\u001b[0m\u001b[0;34m\u001b[0m\u001b[0;34m\u001b[0m\u001b[0m\n\u001b[0;32m----> 3\u001b[0;31m \u001b[0my\u001b[0m\u001b[0;34m[\u001b[0m\u001b[0;36m10\u001b[0m\u001b[0;34m]\u001b[0m\u001b[0;34m[\u001b[0m\u001b[0;36m0\u001b[0m\u001b[0;34m]\u001b[0m\u001b[0;34m=\u001b[0m\u001b[0;36m0\u001b[0m\u001b[0;34m\u001b[0m\u001b[0;34m\u001b[0m\u001b[0m\n\u001b[0m\u001b[1;32m      4\u001b[0m \u001b[0mx\u001b[0m \u001b[0;34m=\u001b[0m \u001b[0mx\u001b[0m\u001b[0;34m.\u001b[0m\u001b[0mreshape\u001b[0m\u001b[0;34m(\u001b[0m\u001b[0mlen\u001b[0m\u001b[0;34m(\u001b[0m\u001b[0mx\u001b[0m\u001b[0;34m)\u001b[0m\u001b[0;34m,\u001b[0m \u001b[0;36m1\u001b[0m\u001b[0;34m)\u001b[0m\u001b[0;34m\u001b[0m\u001b[0;34m\u001b[0m\u001b[0m\n\u001b[1;32m      5\u001b[0m \u001b[0my\u001b[0m \u001b[0;34m=\u001b[0m \u001b[0my\u001b[0m\u001b[0;34m.\u001b[0m\u001b[0mreshape\u001b[0m\u001b[0;34m(\u001b[0m\u001b[0mlen\u001b[0m\u001b[0;34m(\u001b[0m\u001b[0my\u001b[0m\u001b[0;34m)\u001b[0m\u001b[0;34m,\u001b[0m \u001b[0;36m1\u001b[0m\u001b[0;34m)\u001b[0m\u001b[0;34m\u001b[0m\u001b[0;34m\u001b[0m\u001b[0m\n",
      "\u001b[0;31mTypeError\u001b[0m: 'str' object does not support item assignment"
     ]
    }
   ],
   "source": [
    "x = data.Total_Expenditure_on_Education.values\n",
    "y = data.Number_Graduating.values\n",
    "y[10][0]=0 # error due to missing value in last row\n",
    "x = x.reshape(len(x), 1)\n",
    "y = y.reshape(len(y), 1)\n",
    "\n",
    "lm = LinearRegression()\n",
    "lm.fit(x,y)\n",
    "lm.coef_"
   ]
  },
  {
   "cell_type": "markdown",
   "metadata": {},
   "source": [
    "# visualization\n"
   ]
  },
  {
   "cell_type": "code",
   "execution_count": 138,
   "metadata": {},
   "outputs": [
    {
     "data": {
      "text/plain": [
       "[Text(0, 0, '2000'),\n",
       " Text(0, 0, '2001'),\n",
       " Text(0, 0, '2002'),\n",
       " Text(0, 0, '2003'),\n",
       " Text(0, 0, '2004'),\n",
       " Text(0, 0, '2005'),\n",
       " Text(0, 0, '2006'),\n",
       " Text(0, 0, '2007'),\n",
       " Text(0, 0, '2008'),\n",
       " Text(0, 0, '2009'),\n",
       " Text(0, 0, '2010'),\n",
       " Text(0, 0, '2011')]"
      ]
     },
     "execution_count": 138,
     "metadata": {},
     "output_type": "execute_result"
    },
    {
     "data": {
      "image/png": "[encoded data removed]",
      "text/plain": [
       "<Figure size 504x504 with 1 Axes>"
      ]
     },
     "metadata": {
      "needs_background": "light"
     },
     "output_type": "display_data"
    }
   ],
   "source": [
    "\n",
    "x_pos = np.arange(len(data.Item))\n",
    "\n",
    "fig, ax = plt.subplots(figsize=(7, 7))\n",
    "ax.bar(x_pos, data.Students, color='r', align='center')\n",
    "\n",
    "ax.set_xlabel(\"year\")\n",
    "ax.set_ylabel(\"Students\")\n",
    "ax.set_title(\"student Distribution\")\n",
    "\n",
    "ax.set_xticks(x_pos)\n",
    "ax.set_xticklabels(data.Item)"
   ]
  },
  {
   "cell_type": "code",
   "execution_count": 71,
   "metadata": {},
   "outputs": [
    {
     "data": {
      "text/html": [
       "<div>\n",
       "<style scoped>\n",
       "    .dataframe tbody tr th:only-of-type {\n",
       "        vertical-align: middle;\n",
       "    }\n",
       "\n",
       "    .dataframe tbody tr th {\n",
       "        vertical-align: top;\n",
       "    }\n",
       "\n",
       "    .dataframe thead th {\n",
       "        text-align: right;\n",
       "    }\n",
       "</style>\n",
       "<table border=\"1\" class=\"dataframe\">\n",
       "  <thead>\n",
       "    <tr style=\"text-align: right;\">\n",
       "      <th></th>\n",
       "      <th>Item</th>\n",
       "      <th>Total_Schools</th>\n",
       "      <th>Government_Schools</th>\n",
       "      <th>National_Schools</th>\n",
       "      <th>Other_Schools</th>\n",
       "      <th>Private</th>\n",
       "      <th>Pirivenas</th>\n",
       "      <th>Total_Students</th>\n",
       "      <th>Government_Schools.1</th>\n",
       "      <th>Other_Schools.1</th>\n",
       "      <th>...</th>\n",
       "      <th>Total_Expenditure_on_Education</th>\n",
       "      <th>Current_Expenditure</th>\n",
       "      <th>Capital_Expenditure</th>\n",
       "      <th>Expenditure_as_percentage_of_GDP</th>\n",
       "      <th>University Education</th>\n",
       "      <th>Universities</th>\n",
       "      <th>Students</th>\n",
       "      <th>Lecturers</th>\n",
       "      <th>Number_Graduating</th>\n",
       "      <th>New_Admissions.1</th>\n",
       "    </tr>\n",
       "  </thead>\n",
       "  <tbody>\n",
       "    <tr>\n",
       "      <th>0</th>\n",
       "      <td>2000</td>\n",
       "      <td>10615</td>\n",
       "      <td>9976</td>\n",
       "      <td>317</td>\n",
       "      <td>639</td>\n",
       "      <td>78</td>\n",
       "      <td>561</td>\n",
       "      <td>4340412</td>\n",
       "      <td>4193908</td>\n",
       "      <td>146504</td>\n",
       "      <td>...</td>\n",
       "      <td>30929</td>\n",
       "      <td>23794</td>\n",
       "      <td>7135</td>\n",
       "      <td>2.46</td>\n",
       "      <td>NaN</td>\n",
       "      <td>13</td>\n",
       "      <td>48296</td>\n",
       "      <td>3241</td>\n",
       "      <td>9374</td>\n",
       "      <td>11805</td>\n",
       "    </tr>\n",
       "    <tr>\n",
       "      <th>1</th>\n",
       "      <td>2001</td>\n",
       "      <td>10552</td>\n",
       "      <td>9891</td>\n",
       "      <td>320</td>\n",
       "      <td>661</td>\n",
       "      <td>78</td>\n",
       "      <td>583</td>\n",
       "      <td>4337258</td>\n",
       "      <td>4187146</td>\n",
       "      <td>150112</td>\n",
       "      <td>...</td>\n",
       "      <td>28283</td>\n",
       "      <td>23448</td>\n",
       "      <td>4835</td>\n",
       "      <td>2.01</td>\n",
       "      <td>NaN</td>\n",
       "      <td>13</td>\n",
       "      <td>48212</td>\n",
       "      <td>3268</td>\n",
       "      <td>8896</td>\n",
       "      <td>11962</td>\n",
       "    </tr>\n",
       "    <tr>\n",
       "      <th>2</th>\n",
       "      <td>2002</td>\n",
       "      <td>10508</td>\n",
       "      <td>9829</td>\n",
       "      <td>323</td>\n",
       "      <td>679</td>\n",
       "      <td>80</td>\n",
       "      <td>599</td>\n",
       "      <td>4179217</td>\n",
       "      <td>4027075</td>\n",
       "      <td>152142</td>\n",
       "      <td>...</td>\n",
       "      <td>37209</td>\n",
       "      <td>31161</td>\n",
       "      <td>6048</td>\n",
       "      <td>2.35</td>\n",
       "      <td>NaN</td>\n",
       "      <td>13</td>\n",
       "      <td>48666</td>\n",
       "      <td>3390</td>\n",
       "      <td>9027</td>\n",
       "      <td>12144</td>\n",
       "    </tr>\n",
       "    <tr>\n",
       "      <th>3</th>\n",
       "      <td>2003</td>\n",
       "      <td>10473</td>\n",
       "      <td>9790</td>\n",
       "      <td>323</td>\n",
       "      <td>683</td>\n",
       "      <td>85</td>\n",
       "      <td>598</td>\n",
       "      <td>4098465</td>\n",
       "      <td>3941685</td>\n",
       "      <td>156780</td>\n",
       "      <td>...</td>\n",
       "      <td>39116</td>\n",
       "      <td>31673</td>\n",
       "      <td>7443</td>\n",
       "      <td>2.15</td>\n",
       "      <td>NaN</td>\n",
       "      <td>13</td>\n",
       "      <td>64291</td>\n",
       "      <td>3543</td>\n",
       "      <td>10730</td>\n",
       "      <td>25471</td>\n",
       "    </tr>\n",
       "    <tr>\n",
       "      <th>4</th>\n",
       "      <td>2004</td>\n",
       "      <td>10501</td>\n",
       "      <td>9765</td>\n",
       "      <td>324</td>\n",
       "      <td>736</td>\n",
       "      <td>85</td>\n",
       "      <td>651</td>\n",
       "      <td>4028186</td>\n",
       "      <td>3870628</td>\n",
       "      <td>157558</td>\n",
       "      <td>...</td>\n",
       "      <td>42340</td>\n",
       "      <td>33792</td>\n",
       "      <td>8548</td>\n",
       "      <td>2.03</td>\n",
       "      <td>NaN</td>\n",
       "      <td>13</td>\n",
       "      <td>64801</td>\n",
       "      <td>3725</td>\n",
       "      <td>10525</td>\n",
       "      <td>13396</td>\n",
       "    </tr>\n",
       "  </tbody>\n",
       "</table>\n",
       "<p>5 rows × 27 columns</p>\n",
       "</div>"
      ],
      "text/plain": [
       "   Item  Total_Schools  Government_Schools  National_Schools  Other_Schools  \\\n",
       "0  2000          10615                9976               317            639   \n",
       "1  2001          10552                9891               320            661   \n",
       "2  2002          10508                9829               323            679   \n",
       "3  2003          10473                9790               323            683   \n",
       "4  2004          10501                9765               324            736   \n",
       "\n",
       "   Private  Pirivenas  Total_Students  Government_Schools.1  Other_Schools.1  \\\n",
       "0       78        561         4340412               4193908           146504   \n",
       "1       78        583         4337258               4187146           150112   \n",
       "2       80        599         4179217               4027075           152142   \n",
       "3       85        598         4098465               3941685           156780   \n",
       "4       85        651         4028186               3870628           157558   \n",
       "\n",
       "         ...         Total_Expenditure_on_Education  Current_Expenditure  \\\n",
       "0        ...                                  30929                23794   \n",
       "1        ...                                  28283                23448   \n",
       "2        ...                                  37209                31161   \n",
       "3        ...                                  39116                31673   \n",
       "4        ...                                  42340                33792   \n",
       "\n",
       "   Capital_Expenditure  Expenditure_as_percentage_of_GDP  \\\n",
       "0                 7135                              2.46   \n",
       "1                 4835                              2.01   \n",
       "2                 6048                              2.35   \n",
       "3                 7443                              2.15   \n",
       "4                 8548                              2.03   \n",
       "\n",
       "   University Education  Universities  Students  Lecturers  Number_Graduating  \\\n",
       "0                   NaN            13     48296       3241               9374   \n",
       "1                   NaN            13     48212       3268               8896   \n",
       "2                   NaN            13     48666       3390               9027   \n",
       "3                   NaN            13     64291       3543              10730   \n",
       "4                   NaN            13     64801       3725              10525   \n",
       "\n",
       "   New_Admissions.1  \n",
       "0             11805  \n",
       "1             11962  \n",
       "2             12144  \n",
       "3             25471  \n",
       "4             13396  \n",
       "\n",
       "[5 rows x 27 columns]"
      ]
     },
     "execution_count": 71,
     "metadata": {},
     "output_type": "execute_result"
    }
   ],
   "source": [
    "data.head()\n",
    "\n"
   ]
  },
  {
   "cell_type": "code",
   "execution_count": 109,
   "metadata": {},
   "outputs": [],
   "source": [
    "s = data['Students'].values\n",
    "n = data['New_Admissions.1'].values\n",
    "s1=np.array(s)\n",
    "n1=np.array(n)\n",
    "arr=np.column_stack((s1,n1))"
   ]
  },
  {
   "cell_type": "code",
   "execution_count": 110,
   "metadata": {},
   "outputs": [
    {
     "name": "stdout",
     "output_type": "stream",
     "text": [
      "[[48296 11805]\n",
      " [48212 11962]\n",
      " [48666 12144]\n",
      " [64291 25471]\n",
      " [64801 13396]\n",
      " [66386 14520]\n",
      " [65206 16585]\n",
      " [66996 17196]\n",
      " [66891 20069]\n",
      " [68768 20846]\n",
      " [70477 21547]\n",
      " [73828 22016]]\n"
     ]
    }
   ],
   "source": [
    "print(arr)"
   ]
  },
  {
   "cell_type": "code",
   "execution_count": 112,
   "metadata": {},
   "outputs": [
    {
     "data": {
      "text/plain": [
       "Text(0.5, 1.0, 'Fluctuation of Students')"
      ]
     },
     "execution_count": 112,
     "metadata": {},
     "output_type": "execute_result"
    },
    {
     "data": {
      "image/png": "[encoded data removed]",
      "text/plain": [
       "<Figure size 2100x1500 with 1 Axes>"
      ]
     },
     "metadata": {
      "needs_background": "light"
     },
     "output_type": "display_data"
    }
   ],
   "source": [
    "x_pos = np.arange(12)\n",
    "width = 0.2\n",
    "\n",
    "fig, ax = plt.subplots(figsize=(7, 5), dpi=300)\n",
    "labels = data.Item\n",
    "ax.bar(x_pos, arr[:, 0], width=width, color='black', align='center', label='Students')\n",
    "ax.bar(x_pos+width, arr[:, 1], width=width, color='red', align='center', label='New Admission')\n",
    "\n",
    "\n",
    "ax.set_xticks(x_pos + width)\n",
    "ax.set_xticklabels(labels,size=15,rotation=45)\n",
    "\n",
    "ax.legend()\n",
    "ax.set_ylabel(\"Number of students\")\n",
    "ax.set_title(\"Fluctuation of Students\")"
   ]
  },
  {
   "cell_type": "code",
   "execution_count": 121,
   "metadata": {},
   "outputs": [
    {
     "name": "stdout",
     "output_type": "stream",
     "text": [
      "[[23794 23448 31161 31673 33792 50697 61144 72592 77141 82414 85195 99043]\n",
      " [ 7135  4835  6048  7443  8548 12860 17200 19948 22942 18092 19053 22326]]\n"
     ]
    }
   ],
   "source": [
    "p = data['Current_Expenditure'].values\n",
    "q = data['Capital_Expenditure'].values\n",
    "p1=np.array(p)\n",
    "q1=np.array(q)\n",
    "exp=np.row_stack((p1,q1))\n",
    "print(exp)"
   ]
  },
  {
   "cell_type": "code",
   "execution_count": 127,
   "metadata": {},
   "outputs": [
    {
     "data": {
      "text/plain": [
       "[Text(0, 0, '2000'),\n",
       " Text(0, 0, '2001'),\n",
       " Text(0, 0, '2002'),\n",
       " Text(0, 0, '2003'),\n",
       " Text(0, 0, '2004'),\n",
       " Text(0, 0, '2005'),\n",
       " Text(0, 0, '2006'),\n",
       " Text(0, 0, '2007'),\n",
       " Text(0, 0, '2008'),\n",
       " Text(0, 0, '2009'),\n",
       " Text(0, 0, '2010'),\n",
       " Text(0, 0, '2011')]"
      ]
     },
     "execution_count": 127,
     "metadata": {},
     "output_type": "execute_result"
    },
    {
     "data": {
      "image/png": "[encoded data removed]",
      "text/plain": [
       "<Figure size 432x288 with 1 Axes>"
      ]
     },
     "metadata": {
      "needs_background": "light"
     },
     "output_type": "display_data"
    }
   ],
   "source": [
    "n_groups, n_years = exp.shape\n",
    "x_pos = np.arange(n_years)\n",
    "width = 0.8\n",
    "\n",
    "fig, ax = plt.subplots()\n",
    "\n",
    "ax.bar(x_pos, exp[0, :], color='r', width=width, align='center', label='current')\n",
    "ax.bar(x_pos, exp[1, :], color='y', bottom=exp[0, :], width=width, align='center', label='capital')\n",
    "\n",
    "# Your code here\n",
    "# set xlabel, ylabel, title for the figure\n",
    "# set xticks, xticklabels & legend for the figure\n",
    "ax.legend()\n",
    "ax.set_xlabel(\"Years\")\n",
    "ax.set_ylabel(\"Expenditure (RS)\")\n",
    "ax.set_title(\"Total Expenditure Distribution\")\n",
    "\n",
    "ax.set_xticks(x_pos)\n",
    "ax.set_xticklabels(labels,size=15,rotation=45)"
   ]
  },
  {
   "cell_type": "markdown",
   "metadata": {},
   "source": [
    "# ARIMA statistics"
   ]
  },
  {
   "cell_type": "code",
   "execution_count": 130,
   "metadata": {},
   "outputs": [
    {
     "data": {
      "text/html": [
       "<table class=\"simpletable\">\n",
       "<caption>ARMA Model Results</caption>\n",
       "<tr>\n",
       "  <th>Dep. Variable:</th>  <td>New_Admissions</td>  <th>  No. Observations:  </th>    <td>12</td>   \n",
       "</tr>\n",
       "<tr>\n",
       "  <th>Model:</th>            <td>ARMA(0, 1)</td>    <th>  Log Likelihood     </th> <td>-123.050</td>\n",
       "</tr>\n",
       "<tr>\n",
       "  <th>Method:</th>             <td>css-mle</td>     <th>  S.D. of innovations</th> <td>6816.914</td>\n",
       "</tr>\n",
       "<tr>\n",
       "  <th>Date:</th>          <td>Wed, 20 Mar 2019</td> <th>  AIC                </th>  <td>254.100</td>\n",
       "</tr>\n",
       "<tr>\n",
       "  <th>Time:</th>              <td>16:58:23</td>     <th>  BIC                </th>  <td>256.040</td>\n",
       "</tr>\n",
       "<tr>\n",
       "  <th>Sample:</th>                <td>0</td>        <th>  HQIC               </th>  <td>253.382</td>\n",
       "</tr>\n",
       "<tr>\n",
       "  <th></th>                       <td> </td>        <th>                     </th>     <td> </td>   \n",
       "</tr>\n",
       "</table>\n",
       "<table class=\"simpletable\">\n",
       "<tr>\n",
       "                 <td></td>                   <th>coef</th>     <th>std err</th>      <th>z</th>      <th>P>|z|</th>  <th>[0.025</th>    <th>0.975]</th>  \n",
       "</tr>\n",
       "<tr>\n",
       "  <th>const</th>                          <td> 3.192e+05</td> <td> 6355.354</td> <td>   50.224</td> <td> 0.000</td> <td> 3.07e+05</td> <td> 3.32e+05</td>\n",
       "</tr>\n",
       "<tr>\n",
       "  <th>Total_Expenditure_on_Education</th> <td>    0.0879</td> <td>    0.082</td> <td>    1.078</td> <td> 0.309</td> <td>   -0.072</td> <td>    0.248</td>\n",
       "</tr>\n",
       "<tr>\n",
       "  <th>ma.L1.New_Admissions</th>           <td>    0.4195</td> <td>    0.206</td> <td>    2.038</td> <td> 0.072</td> <td>    0.016</td> <td>    0.823</td>\n",
       "</tr>\n",
       "</table>\n",
       "<table class=\"simpletable\">\n",
       "<caption>Roots</caption>\n",
       "<tr>\n",
       "    <td></td>   <th>            Real</th>  <th>         Imaginary</th> <th>         Modulus</th>  <th>        Frequency</th>\n",
       "</tr>\n",
       "<tr>\n",
       "  <th>MA.1</th> <td>          -2.3839</td> <td>          +0.0000j</td> <td>           2.3839</td> <td>           0.5000</td>\n",
       "</tr>\n",
       "</table>"
      ],
      "text/plain": [
       "<class 'statsmodels.iolib.summary.Summary'>\n",
       "\"\"\"\n",
       "                              ARMA Model Results                              \n",
       "==============================================================================\n",
       "Dep. Variable:         New_Admissions   No. Observations:                   12\n",
       "Model:                     ARMA(0, 1)   Log Likelihood                -123.050\n",
       "Method:                       css-mle   S.D. of innovations           6816.914\n",
       "Date:                Wed, 20 Mar 2019   AIC                            254.100\n",
       "Time:                        16:58:23   BIC                            256.040\n",
       "Sample:                             0   HQIC                           253.382\n",
       "                                                                              \n",
       "==================================================================================================\n",
       "                                     coef    std err          z      P>|z|      [0.025      0.975]\n",
       "--------------------------------------------------------------------------------------------------\n",
       "const                           3.192e+05   6355.354     50.224      0.000    3.07e+05    3.32e+05\n",
       "Total_Expenditure_on_Education     0.0879      0.082      1.078      0.309      -0.072       0.248\n",
       "ma.L1.New_Admissions               0.4195      0.206      2.038      0.072       0.016       0.823\n",
       "                                    Roots                                    \n",
       "=============================================================================\n",
       "                  Real          Imaginary           Modulus         Frequency\n",
       "-----------------------------------------------------------------------------\n",
       "MA.1           -2.3839           +0.0000j            2.3839            0.5000\n",
       "-----------------------------------------------------------------------------\n",
       "\"\"\""
      ]
     },
     "execution_count": 130,
     "metadata": {},
     "output_type": "execute_result"
    }
   ],
   "source": [
    "import statsmodels.api as sm\n",
    "model = sm.tsa.ARIMA(endog=data['New_Admissions'].astype('float64'), exog=data[['Total_Expenditure_on_Education']].astype('float64'),\n",
    "                             order = (0,0,1))\n",
    "model_fit = model.fit()\n",
    "model_fit.summary()"
   ]
  },
  {
   "cell_type": "code",
   "execution_count": 134,
   "metadata": {},
   "outputs": [
    {
     "data": {
      "text/html": [
       "<table class=\"simpletable\">\n",
       "<caption>ARMA Model Results</caption>\n",
       "<tr>\n",
       "  <th>Dep. Variable:</th>   <td>Universities</td>   <th>  No. Observations:  </th>   <td>12</td>  \n",
       "</tr>\n",
       "<tr>\n",
       "  <th>Model:</th>            <td>ARMA(0, 1)</td>    <th>  Log Likelihood     </th> <td>-5.947</td>\n",
       "</tr>\n",
       "<tr>\n",
       "  <th>Method:</th>             <td>css-mle</td>     <th>  S.D. of innovations</th>  <td>0.395</td>\n",
       "</tr>\n",
       "<tr>\n",
       "  <th>Date:</th>          <td>Thu, 21 Mar 2019</td> <th>  AIC                </th> <td>19.895</td>\n",
       "</tr>\n",
       "<tr>\n",
       "  <th>Time:</th>              <td>19:59:48</td>     <th>  BIC                </th> <td>21.834</td>\n",
       "</tr>\n",
       "<tr>\n",
       "  <th>Sample:</th>                <td>0</td>        <th>  HQIC               </th> <td>19.177</td>\n",
       "</tr>\n",
       "<tr>\n",
       "  <th></th>                       <td> </td>        <th>                     </th>    <td> </td>  \n",
       "</tr>\n",
       "</table>\n",
       "<table class=\"simpletable\">\n",
       "<tr>\n",
       "                 <td></td>                   <th>coef</th>     <th>std err</th>      <th>z</th>      <th>P>|z|</th>  <th>[0.025</th>    <th>0.975]</th>  \n",
       "</tr>\n",
       "<tr>\n",
       "  <th>const</th>                          <td>   12.2298</td> <td>    0.346</td> <td>   35.354</td> <td> 0.000</td> <td>   11.552</td> <td>   12.908</td>\n",
       "</tr>\n",
       "<tr>\n",
       "  <th>Total_Expenditure_on_Education</th> <td> 2.742e-05</td> <td> 4.44e-06</td> <td>    6.169</td> <td> 0.000</td> <td> 1.87e-05</td> <td> 3.61e-05</td>\n",
       "</tr>\n",
       "<tr>\n",
       "  <th>ma.L1.Universities</th>             <td>    0.3749</td> <td>    0.248</td> <td>    1.512</td> <td> 0.165</td> <td>   -0.111</td> <td>    0.861</td>\n",
       "</tr>\n",
       "</table>\n",
       "<table class=\"simpletable\">\n",
       "<caption>Roots</caption>\n",
       "<tr>\n",
       "    <td></td>   <th>            Real</th>  <th>         Imaginary</th> <th>         Modulus</th>  <th>        Frequency</th>\n",
       "</tr>\n",
       "<tr>\n",
       "  <th>MA.1</th> <td>          -2.6672</td> <td>          +0.0000j</td> <td>           2.6672</td> <td>           0.5000</td>\n",
       "</tr>\n",
       "</table>"
      ],
      "text/plain": [
       "<class 'statsmodels.iolib.summary.Summary'>\n",
       "\"\"\"\n",
       "                              ARMA Model Results                              \n",
       "==============================================================================\n",
       "Dep. Variable:           Universities   No. Observations:                   12\n",
       "Model:                     ARMA(0, 1)   Log Likelihood                  -5.947\n",
       "Method:                       css-mle   S.D. of innovations              0.395\n",
       "Date:                Thu, 21 Mar 2019   AIC                             19.895\n",
       "Time:                        19:59:48   BIC                             21.834\n",
       "Sample:                             0   HQIC                            19.177\n",
       "                                                                              \n",
       "==================================================================================================\n",
       "                                     coef    std err          z      P>|z|      [0.025      0.975]\n",
       "--------------------------------------------------------------------------------------------------\n",
       "const                             12.2298      0.346     35.354      0.000      11.552      12.908\n",
       "Total_Expenditure_on_Education  2.742e-05   4.44e-06      6.169      0.000    1.87e-05    3.61e-05\n",
       "ma.L1.Universities                 0.3749      0.248      1.512      0.165      -0.111       0.861\n",
       "                                    Roots                                    \n",
       "=============================================================================\n",
       "                  Real          Imaginary           Modulus         Frequency\n",
       "-----------------------------------------------------------------------------\n",
       "MA.1           -2.6672           +0.0000j            2.6672            0.5000\n",
       "-----------------------------------------------------------------------------\n",
       "\"\"\""
      ]
     },
     "execution_count": 134,
     "metadata": {},
     "output_type": "execute_result"
    }
   ],
   "source": [
    "import statsmodels.api as sm\n",
    "model = sm.tsa.ARIMA(endog=data['Universities'].astype('float64'), exog=data[['Total_Expenditure_on_Education']].astype('float64'),\n",
    "                             order = (0,0,1))\n",
    "model_fit = model.fit()\n",
    "model_fit.summary()"
   ]
  },
  {
   "cell_type": "code",
   "execution_count": 135,
   "metadata": {},
   "outputs": [
    {
     "data": {
      "text/html": [
       "<table class=\"simpletable\">\n",
       "<caption>ARMA Model Results</caption>\n",
       "<tr>\n",
       "  <th>Dep. Variable:</th>     <td>Students</td>     <th>  No. Observations:  </th>    <td>12</td>   \n",
       "</tr>\n",
       "<tr>\n",
       "  <th>Model:</th>            <td>ARMA(0, 1)</td>    <th>  Log Likelihood     </th> <td>-117.331</td>\n",
       "</tr>\n",
       "<tr>\n",
       "  <th>Method:</th>             <td>css-mle</td>     <th>  S.D. of innovations</th> <td>4228.021</td>\n",
       "</tr>\n",
       "<tr>\n",
       "  <th>Date:</th>          <td>Thu, 21 Mar 2019</td> <th>  AIC                </th>  <td>242.662</td>\n",
       "</tr>\n",
       "<tr>\n",
       "  <th>Time:</th>              <td>20:00:51</td>     <th>  BIC                </th>  <td>244.602</td>\n",
       "</tr>\n",
       "<tr>\n",
       "  <th>Sample:</th>                <td>0</td>        <th>  HQIC               </th>  <td>241.944</td>\n",
       "</tr>\n",
       "<tr>\n",
       "  <th></th>                       <td> </td>        <th>                     </th>     <td> </td>   \n",
       "</tr>\n",
       "</table>\n",
       "<table class=\"simpletable\">\n",
       "<tr>\n",
       "                 <td></td>                   <th>coef</th>     <th>std err</th>      <th>z</th>      <th>P>|z|</th>  <th>[0.025</th>    <th>0.975]</th>  \n",
       "</tr>\n",
       "<tr>\n",
       "  <th>const</th>                          <td> 4.676e+04</td> <td> 4010.618</td> <td>   11.659</td> <td> 0.000</td> <td> 3.89e+04</td> <td> 5.46e+04</td>\n",
       "</tr>\n",
       "<tr>\n",
       "  <th>Total_Expenditure_on_Education</th> <td>    0.2257</td> <td>    0.051</td> <td>    4.397</td> <td> 0.002</td> <td>    0.125</td> <td>    0.326</td>\n",
       "</tr>\n",
       "<tr>\n",
       "  <th>ma.L1.Students</th>                 <td>    0.4440</td> <td>    0.217</td> <td>    2.048</td> <td> 0.071</td> <td>    0.019</td> <td>    0.869</td>\n",
       "</tr>\n",
       "</table>\n",
       "<table class=\"simpletable\">\n",
       "<caption>Roots</caption>\n",
       "<tr>\n",
       "    <td></td>   <th>            Real</th>  <th>         Imaginary</th> <th>         Modulus</th>  <th>        Frequency</th>\n",
       "</tr>\n",
       "<tr>\n",
       "  <th>MA.1</th> <td>          -2.2521</td> <td>          +0.0000j</td> <td>           2.2521</td> <td>           0.5000</td>\n",
       "</tr>\n",
       "</table>"
      ],
      "text/plain": [
       "<class 'statsmodels.iolib.summary.Summary'>\n",
       "\"\"\"\n",
       "                              ARMA Model Results                              \n",
       "==============================================================================\n",
       "Dep. Variable:               Students   No. Observations:                   12\n",
       "Model:                     ARMA(0, 1)   Log Likelihood                -117.331\n",
       "Method:                       css-mle   S.D. of innovations           4228.021\n",
       "Date:                Thu, 21 Mar 2019   AIC                            242.662\n",
       "Time:                        20:00:51   BIC                            244.602\n",
       "Sample:                             0   HQIC                           241.944\n",
       "                                                                              \n",
       "==================================================================================================\n",
       "                                     coef    std err          z      P>|z|      [0.025      0.975]\n",
       "--------------------------------------------------------------------------------------------------\n",
       "const                           4.676e+04   4010.618     11.659      0.000    3.89e+04    5.46e+04\n",
       "Total_Expenditure_on_Education     0.2257      0.051      4.397      0.002       0.125       0.326\n",
       "ma.L1.Students                     0.4440      0.217      2.048      0.071       0.019       0.869\n",
       "                                    Roots                                    \n",
       "=============================================================================\n",
       "                  Real          Imaginary           Modulus         Frequency\n",
       "-----------------------------------------------------------------------------\n",
       "MA.1           -2.2521           +0.0000j            2.2521            0.5000\n",
       "-----------------------------------------------------------------------------\n",
       "\"\"\""
      ]
     },
     "execution_count": 135,
     "metadata": {},
     "output_type": "execute_result"
    }
   ],
   "source": [
    "import statsmodels.api as sm\n",
    "model = sm.tsa.ARIMA(endog=data['Students'].astype('float64'), exog=data[['Total_Expenditure_on_Education']].astype('float64'),\n",
    "                             order = (0,0,1))\n",
    "model_fit = model.fit()\n",
    "model_fit.summary()"
   ]
  },
  {
   "cell_type": "code",
   "execution_count": 136,
   "metadata": {},
   "outputs": [
    {
     "ename": "ValueError",
     "evalue": "could not convert string to float: '-'",
     "output_type": "error",
     "traceback": [
      "\u001b[0;31m---------------------------------------------------------------------------\u001b[0m",
      "\u001b[0;31mValueError\u001b[0m                                Traceback (most recent call last)",
      "\u001b[0;32m<ipython-input-136-73180c583183>\u001b[0m in \u001b[0;36m<module>\u001b[0;34m\u001b[0m\n\u001b[1;32m      1\u001b[0m \u001b[0;32mimport\u001b[0m \u001b[0mstatsmodels\u001b[0m\u001b[0;34m.\u001b[0m\u001b[0mapi\u001b[0m \u001b[0;32mas\u001b[0m \u001b[0msm\u001b[0m\u001b[0;34m\u001b[0m\u001b[0;34m\u001b[0m\u001b[0m\n\u001b[0;32m----> 2\u001b[0;31m model = sm.tsa.ARIMA(endog=data['Number_Graduating'].astype('float64'), exog=data[['Total_Expenditure_on_Education']].astype('float64'),\n\u001b[0m\u001b[1;32m      3\u001b[0m                              order = (0,0,1))\n\u001b[1;32m      4\u001b[0m \u001b[0mmodel_fit\u001b[0m \u001b[0;34m=\u001b[0m \u001b[0mmodel\u001b[0m\u001b[0;34m.\u001b[0m\u001b[0mfit\u001b[0m\u001b[0;34m(\u001b[0m\u001b[0;34m)\u001b[0m\u001b[0;34m\u001b[0m\u001b[0;34m\u001b[0m\u001b[0m\n\u001b[1;32m      5\u001b[0m \u001b[0mmodel_fit\u001b[0m\u001b[0;34m.\u001b[0m\u001b[0msummary\u001b[0m\u001b[0;34m(\u001b[0m\u001b[0;34m)\u001b[0m\u001b[0;34m\u001b[0m\u001b[0;34m\u001b[0m\u001b[0m\n",
      "\u001b[0;32m/anaconda3/lib/python3.7/site-packages/pandas/util/_decorators.py\u001b[0m in \u001b[0;36mwrapper\u001b[0;34m(*args, **kwargs)\u001b[0m\n\u001b[1;32m    176\u001b[0m                 \u001b[0;32melse\u001b[0m\u001b[0;34m:\u001b[0m\u001b[0;34m\u001b[0m\u001b[0;34m\u001b[0m\u001b[0m\n\u001b[1;32m    177\u001b[0m                     \u001b[0mkwargs\u001b[0m\u001b[0;34m[\u001b[0m\u001b[0mnew_arg_name\u001b[0m\u001b[0;34m]\u001b[0m \u001b[0;34m=\u001b[0m \u001b[0mnew_arg_value\u001b[0m\u001b[0;34m\u001b[0m\u001b[0;34m\u001b[0m\u001b[0m\n\u001b[0;32m--> 178\u001b[0;31m             \u001b[0;32mreturn\u001b[0m \u001b[0mfunc\u001b[0m\u001b[0;34m(\u001b[0m\u001b[0;34m*\u001b[0m\u001b[0margs\u001b[0m\u001b[0;34m,\u001b[0m \u001b[0;34m**\u001b[0m\u001b[0mkwargs\u001b[0m\u001b[0;34m)\u001b[0m\u001b[0;34m\u001b[0m\u001b[0;34m\u001b[0m\u001b[0m\n\u001b[0m\u001b[1;32m    179\u001b[0m         \u001b[0;32mreturn\u001b[0m \u001b[0mwrapper\u001b[0m\u001b[0;34m\u001b[0m\u001b[0;34m\u001b[0m\u001b[0m\n\u001b[1;32m    180\u001b[0m     \u001b[0;32mreturn\u001b[0m \u001b[0m_deprecate_kwarg\u001b[0m\u001b[0;34m\u001b[0m\u001b[0;34m\u001b[0m\u001b[0m\n",
      "\u001b[0;32m/anaconda3/lib/python3.7/site-packages/pandas/core/generic.py\u001b[0m in \u001b[0;36mastype\u001b[0;34m(self, dtype, copy, errors, **kwargs)\u001b[0m\n\u001b[1;32m   4999\u001b[0m             \u001b[0;31m# else, only a single dtype is given\u001b[0m\u001b[0;34m\u001b[0m\u001b[0;34m\u001b[0m\u001b[0;34m\u001b[0m\u001b[0m\n\u001b[1;32m   5000\u001b[0m             new_data = self._data.astype(dtype=dtype, copy=copy, errors=errors,\n\u001b[0;32m-> 5001\u001b[0;31m                                          **kwargs)\n\u001b[0m\u001b[1;32m   5002\u001b[0m             \u001b[0;32mreturn\u001b[0m \u001b[0mself\u001b[0m\u001b[0;34m.\u001b[0m\u001b[0m_constructor\u001b[0m\u001b[0;34m(\u001b[0m\u001b[0mnew_data\u001b[0m\u001b[0;34m)\u001b[0m\u001b[0;34m.\u001b[0m\u001b[0m__finalize__\u001b[0m\u001b[0;34m(\u001b[0m\u001b[0mself\u001b[0m\u001b[0;34m)\u001b[0m\u001b[0;34m\u001b[0m\u001b[0;34m\u001b[0m\u001b[0m\n\u001b[1;32m   5003\u001b[0m \u001b[0;34m\u001b[0m\u001b[0m\n",
      "\u001b[0;32m/anaconda3/lib/python3.7/site-packages/pandas/core/internals.py\u001b[0m in \u001b[0;36mastype\u001b[0;34m(self, dtype, **kwargs)\u001b[0m\n\u001b[1;32m   3712\u001b[0m \u001b[0;34m\u001b[0m\u001b[0m\n\u001b[1;32m   3713\u001b[0m     \u001b[0;32mdef\u001b[0m \u001b[0mastype\u001b[0m\u001b[0;34m(\u001b[0m\u001b[0mself\u001b[0m\u001b[0;34m,\u001b[0m \u001b[0mdtype\u001b[0m\u001b[0;34m,\u001b[0m \u001b[0;34m**\u001b[0m\u001b[0mkwargs\u001b[0m\u001b[0;34m)\u001b[0m\u001b[0;34m:\u001b[0m\u001b[0;34m\u001b[0m\u001b[0;34m\u001b[0m\u001b[0m\n\u001b[0;32m-> 3714\u001b[0;31m         \u001b[0;32mreturn\u001b[0m \u001b[0mself\u001b[0m\u001b[0;34m.\u001b[0m\u001b[0mapply\u001b[0m\u001b[0;34m(\u001b[0m\u001b[0;34m'astype'\u001b[0m\u001b[0;34m,\u001b[0m \u001b[0mdtype\u001b[0m\u001b[0;34m=\u001b[0m\u001b[0mdtype\u001b[0m\u001b[0;34m,\u001b[0m \u001b[0;34m**\u001b[0m\u001b[0mkwargs\u001b[0m\u001b[0;34m)\u001b[0m\u001b[0;34m\u001b[0m\u001b[0;34m\u001b[0m\u001b[0m\n\u001b[0m\u001b[1;32m   3715\u001b[0m \u001b[0;34m\u001b[0m\u001b[0m\n\u001b[1;32m   3716\u001b[0m     \u001b[0;32mdef\u001b[0m \u001b[0mconvert\u001b[0m\u001b[0;34m(\u001b[0m\u001b[0mself\u001b[0m\u001b[0;34m,\u001b[0m \u001b[0;34m**\u001b[0m\u001b[0mkwargs\u001b[0m\u001b[0;34m)\u001b[0m\u001b[0;34m:\u001b[0m\u001b[0;34m\u001b[0m\u001b[0;34m\u001b[0m\u001b[0m\n",
      "\u001b[0;32m/anaconda3/lib/python3.7/site-packages/pandas/core/internals.py\u001b[0m in \u001b[0;36mapply\u001b[0;34m(self, f, axes, filter, do_integrity_check, consolidate, **kwargs)\u001b[0m\n\u001b[1;32m   3579\u001b[0m \u001b[0;34m\u001b[0m\u001b[0m\n\u001b[1;32m   3580\u001b[0m             \u001b[0mkwargs\u001b[0m\u001b[0;34m[\u001b[0m\u001b[0;34m'mgr'\u001b[0m\u001b[0;34m]\u001b[0m \u001b[0;34m=\u001b[0m \u001b[0mself\u001b[0m\u001b[0;34m\u001b[0m\u001b[0;34m\u001b[0m\u001b[0m\n\u001b[0;32m-> 3581\u001b[0;31m             \u001b[0mapplied\u001b[0m \u001b[0;34m=\u001b[0m \u001b[0mgetattr\u001b[0m\u001b[0;34m(\u001b[0m\u001b[0mb\u001b[0m\u001b[0;34m,\u001b[0m \u001b[0mf\u001b[0m\u001b[0;34m)\u001b[0m\u001b[0;34m(\u001b[0m\u001b[0;34m**\u001b[0m\u001b[0mkwargs\u001b[0m\u001b[0;34m)\u001b[0m\u001b[0;34m\u001b[0m\u001b[0;34m\u001b[0m\u001b[0m\n\u001b[0m\u001b[1;32m   3582\u001b[0m             \u001b[0mresult_blocks\u001b[0m \u001b[0;34m=\u001b[0m \u001b[0m_extend_blocks\u001b[0m\u001b[0;34m(\u001b[0m\u001b[0mapplied\u001b[0m\u001b[0;34m,\u001b[0m \u001b[0mresult_blocks\u001b[0m\u001b[0;34m)\u001b[0m\u001b[0;34m\u001b[0m\u001b[0;34m\u001b[0m\u001b[0m\n\u001b[1;32m   3583\u001b[0m \u001b[0;34m\u001b[0m\u001b[0m\n",
      "\u001b[0;32m/anaconda3/lib/python3.7/site-packages/pandas/core/internals.py\u001b[0m in \u001b[0;36mastype\u001b[0;34m(self, dtype, copy, errors, values, **kwargs)\u001b[0m\n\u001b[1;32m    573\u001b[0m     \u001b[0;32mdef\u001b[0m \u001b[0mastype\u001b[0m\u001b[0;34m(\u001b[0m\u001b[0mself\u001b[0m\u001b[0;34m,\u001b[0m \u001b[0mdtype\u001b[0m\u001b[0;34m,\u001b[0m \u001b[0mcopy\u001b[0m\u001b[0;34m=\u001b[0m\u001b[0;32mFalse\u001b[0m\u001b[0;34m,\u001b[0m \u001b[0merrors\u001b[0m\u001b[0;34m=\u001b[0m\u001b[0;34m'raise'\u001b[0m\u001b[0;34m,\u001b[0m \u001b[0mvalues\u001b[0m\u001b[0;34m=\u001b[0m\u001b[0;32mNone\u001b[0m\u001b[0;34m,\u001b[0m \u001b[0;34m**\u001b[0m\u001b[0mkwargs\u001b[0m\u001b[0;34m)\u001b[0m\u001b[0;34m:\u001b[0m\u001b[0;34m\u001b[0m\u001b[0;34m\u001b[0m\u001b[0m\n\u001b[1;32m    574\u001b[0m         return self._astype(dtype, copy=copy, errors=errors, values=values,\n\u001b[0;32m--> 575\u001b[0;31m                             **kwargs)\n\u001b[0m\u001b[1;32m    576\u001b[0m \u001b[0;34m\u001b[0m\u001b[0m\n\u001b[1;32m    577\u001b[0m     def _astype(self, dtype, copy=False, errors='raise', values=None,\n",
      "\u001b[0;32m/anaconda3/lib/python3.7/site-packages/pandas/core/internals.py\u001b[0m in \u001b[0;36m_astype\u001b[0;34m(self, dtype, copy, errors, values, klass, mgr, **kwargs)\u001b[0m\n\u001b[1;32m    662\u001b[0m \u001b[0;34m\u001b[0m\u001b[0m\n\u001b[1;32m    663\u001b[0m                 \u001b[0;31m# _astype_nansafe works fine with 1-d only\u001b[0m\u001b[0;34m\u001b[0m\u001b[0;34m\u001b[0m\u001b[0;34m\u001b[0m\u001b[0m\n\u001b[0;32m--> 664\u001b[0;31m                 \u001b[0mvalues\u001b[0m \u001b[0;34m=\u001b[0m \u001b[0mastype_nansafe\u001b[0m\u001b[0;34m(\u001b[0m\u001b[0mvalues\u001b[0m\u001b[0;34m.\u001b[0m\u001b[0mravel\u001b[0m\u001b[0;34m(\u001b[0m\u001b[0;34m)\u001b[0m\u001b[0;34m,\u001b[0m \u001b[0mdtype\u001b[0m\u001b[0;34m,\u001b[0m \u001b[0mcopy\u001b[0m\u001b[0;34m=\u001b[0m\u001b[0;32mTrue\u001b[0m\u001b[0;34m)\u001b[0m\u001b[0;34m\u001b[0m\u001b[0;34m\u001b[0m\u001b[0m\n\u001b[0m\u001b[1;32m    665\u001b[0m                 \u001b[0mvalues\u001b[0m \u001b[0;34m=\u001b[0m \u001b[0mvalues\u001b[0m\u001b[0;34m.\u001b[0m\u001b[0mreshape\u001b[0m\u001b[0;34m(\u001b[0m\u001b[0mself\u001b[0m\u001b[0;34m.\u001b[0m\u001b[0mshape\u001b[0m\u001b[0;34m)\u001b[0m\u001b[0;34m\u001b[0m\u001b[0;34m\u001b[0m\u001b[0m\n\u001b[1;32m    666\u001b[0m \u001b[0;34m\u001b[0m\u001b[0m\n",
      "\u001b[0;32m/anaconda3/lib/python3.7/site-packages/pandas/core/dtypes/cast.py\u001b[0m in \u001b[0;36mastype_nansafe\u001b[0;34m(arr, dtype, copy)\u001b[0m\n\u001b[1;32m    728\u001b[0m \u001b[0;34m\u001b[0m\u001b[0m\n\u001b[1;32m    729\u001b[0m     \u001b[0;32mif\u001b[0m \u001b[0mcopy\u001b[0m\u001b[0;34m:\u001b[0m\u001b[0;34m\u001b[0m\u001b[0;34m\u001b[0m\u001b[0m\n\u001b[0;32m--> 730\u001b[0;31m         \u001b[0;32mreturn\u001b[0m \u001b[0marr\u001b[0m\u001b[0;34m.\u001b[0m\u001b[0mastype\u001b[0m\u001b[0;34m(\u001b[0m\u001b[0mdtype\u001b[0m\u001b[0;34m,\u001b[0m \u001b[0mcopy\u001b[0m\u001b[0;34m=\u001b[0m\u001b[0;32mTrue\u001b[0m\u001b[0;34m)\u001b[0m\u001b[0;34m\u001b[0m\u001b[0;34m\u001b[0m\u001b[0m\n\u001b[0m\u001b[1;32m    731\u001b[0m     \u001b[0;32mreturn\u001b[0m \u001b[0marr\u001b[0m\u001b[0;34m.\u001b[0m\u001b[0mview\u001b[0m\u001b[0;34m(\u001b[0m\u001b[0mdtype\u001b[0m\u001b[0;34m)\u001b[0m\u001b[0;34m\u001b[0m\u001b[0;34m\u001b[0m\u001b[0m\n\u001b[1;32m    732\u001b[0m \u001b[0;34m\u001b[0m\u001b[0m\n",
      "\u001b[0;31mValueError\u001b[0m: could not convert string to float: '-'"
     ]
    }
   ],
   "source": [
    "import statsmodels.api as sm #error due to missing value\n",
    "model = sm.tsa.ARIMA(endog=data['Number_Graduating'].astype('float64'), exog=data[['Total_Expenditure_on_Education']].astype('float64'),\n",
    "                             order = (0,0,1))\n",
    "model_fit = model.fit()\n",
    "model_fit.summary()"
   ]
  },
  {
   "cell_type": "markdown",
   "metadata": {},
   "source": [
    "# visualization"
   ]
  },
  {
   "cell_type": "raw",
   "metadata": {},
   "source": []
  },
  {
   "cell_type": "code",
   "execution_count": 132,
   "metadata": {},
   "outputs": [
    {
     "data": {
      "image/png": "[encoded data removed]",
      "text/plain": [
       "<Figure size 432x288 with 1 Axes>"
      ]
     },
     "metadata": {
      "needs_background": "light"
     },
     "output_type": "display_data"
    },
    {
     "data": {
      "text/plain": [
       "Text(0.5, 1.0, 'Total Expenditure Distribution')"
      ]
     },
     "execution_count": 132,
     "metadata": {},
     "output_type": "execute_result"
    }
   ],
   "source": [
    "dx=data.Total_Expenditure_on_Education\n",
    "dy=data.New_Admissions\n",
    "plt.scatter(x,y,alpha=0.5)\n",
    "plt.show()\n",
    "\n",
    "ax.set_xlabel(\"Total_Expenditure_on_Education\")\n",
    "ax.set_ylabel(\"New_Admissions\")\n",
    "ax.set_title(\"Total Expenditure Distribution\")"
   ]
  },
  {
   "cell_type": "markdown",
   "metadata": {},
   "source": [
    "# tried single smoothing "
   ]
  },
  {
   "cell_type": "code",
   "execution_count": 141,
   "metadata": {},
   "outputs": [
    {
     "data": {
      "text/plain": [
       "<matplotlib.axes._subplots.AxesSubplot at 0x1a262cc358>"
      ]
     },
     "execution_count": 141,
     "metadata": {},
     "output_type": "execute_result"
    },
    {
     "data": {
      "image/png": "[encoded data removed]",
      "text/plain": [
       "<Figure size 432x288 with 1 Axes>"
      ]
     },
     "metadata": {
      "needs_background": "light"
     },
     "output_type": "display_data"
    }
   ],
   "source": [
    "from statsmodels.tsa.api import  SimpleExpSmoothing\n",
    "fit1 = SimpleExpSmoothing(data.Total_Expenditure_on_Education).fit(smoothing_level=0.2,optimized=False)\n",
    "fcast1 = fit1.forecast(12).rename(r'$\\alpha=0.2$')\n",
    "# plot\n",
    "fcast1.plot(marker='o', color='blue', legend=True)\n",
    "fit1.fittedvalues.plot(marker='o',  color='blue')"
   ]
  },
  {
   "cell_type": "code",
   "execution_count": 142,
   "metadata": {},
   "outputs": [
    {
     "data": {
      "text/plain": [
       "<matplotlib.axes._subplots.AxesSubplot at 0x1a26255ac8>"
      ]
     },
     "execution_count": 142,
     "metadata": {},
     "output_type": "execute_result"
    },
    {
     "data": {
      "image/png": "[encoded data removed]",
      "text/plain": [
       "<Figure size 432x288 with 1 Axes>"
      ]
     },
     "metadata": {
      "needs_background": "light"
     },
     "output_type": "display_data"
    }
   ],
   "source": [
    "fit2 = SimpleExpSmoothing(data.Total_Expenditure_on_Education).fit(smoothing_level=0.6,optimized=False)\n",
    "fcast2 = fit2.forecast(12).rename(r'$\\alpha=0.6$')\n",
    "# plot\n",
    "fcast2.plot(marker='o', color='red', legend=True)\n",
    "fit2.fittedvalues.plot(marker='o', color='red')"
   ]
  },
  {
   "cell_type": "code",
   "execution_count": 143,
   "metadata": {},
   "outputs": [
    {
     "data": {
      "text/plain": [
       "<matplotlib.axes._subplots.AxesSubplot at 0x1a238743c8>"
      ]
     },
     "execution_count": 143,
     "metadata": {},
     "output_type": "execute_result"
    },
    {
     "data": {
      "image/png": "[encoded data removed]",
      "text/plain": [
       "<Figure size 432x288 with 1 Axes>"
      ]
     },
     "metadata": {
      "needs_background": "light"
     },
     "output_type": "display_data"
    }
   ],
   "source": [
    "fit3 = SimpleExpSmoothing(data.Total_Expenditure_on_Education).fit()\n",
    "fcast3 = fit3.forecast(12).rename(r'$\\alpha=%s$'%fit3.model.params['smoothing_level'])\n",
    "# plot\n",
    "fcast3.plot(marker='o', color='green', legend=True)\n",
    "fit3.fittedvalues.plot(marker='o', color='green')\n"
   ]
  }
 ],
 "metadata": {
  "kernelspec": {
   "display_name": "Python 3",
   "language": "python",
   "name": "python3"
  },
  "language_info": {
   "codemirror_mode": {
    "name": "ipython",
    "version": 3
   },
   "file_extension": ".py",
   "mimetype": "text/x-python",
   "name": "python",
   "nbconvert_exporter": "python",
   "pygments_lexer": "ipython3",
   "version": "3.7.1"
  }
 },
 "nbformat": 4,
 "nbformat_minor": 2
}
